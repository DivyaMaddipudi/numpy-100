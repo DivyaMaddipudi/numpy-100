{
 "cells": [
  {
   "cell_type": "code",
   "execution_count": 19,
   "metadata": {},
   "outputs": [
    {
     "name": "stdout",
     "output_type": "stream",
     "text": [
      "array is: [[ 0  2]\n",
      " [ 4  6]\n",
      " [ 8 10]\n",
      " [12 14]\n",
      " [16 18]\n",
      " [20 22]\n",
      " [24 26]\n",
      " [28 30]\n",
      " [32 34]\n",
      " [36 38]\n",
      " [40 42]\n",
      " [44 46]\n",
      " [48 50]\n",
      " [52 54]\n",
      " [56 58]]\n",
      "vertical split:\n",
      "[[ 0  2]\n",
      " [ 4  6]\n",
      " [ 8 10]]\n",
      "[[12 14]\n",
      " [16 18]\n",
      " [20 22]]\n",
      "[[24 26]\n",
      " [28 30]\n",
      " [32 34]]\n",
      "[[36 38]\n",
      " [40 42]\n",
      " [44 46]]\n",
      "[[48 50]\n",
      " [52 54]\n",
      " [56 58]]\n"
     ]
    }
   ],
   "source": [
    "#vertical spliting \n",
    "\n",
    "import numpy as np\n",
    "\n",
    "a = np.arange(0,60,2).reshape(15,2)\n",
    "print(\"array is:\",a)\n",
    "\n",
    "print(\"vertical split:\")\n",
    "result = np.vsplit(a,5)\n",
    "print(result[0])\n",
    "print(result[1])\n",
    "print(result[2])\n",
    "print(result[3])\n",
    "print(result[4])"
   ]
  },
  {
   "cell_type": "code",
   "execution_count": 24,
   "metadata": {},
   "outputs": [
    {
     "name": "stdout",
     "output_type": "stream",
     "text": [
      "array is: [[ 0  2]\n",
      " [ 4  6]\n",
      " [ 8 10]\n",
      " [12 14]\n",
      " [16 18]\n",
      " [20 22]\n",
      " [24 26]\n",
      " [28 30]\n",
      " [32 34]\n",
      " [36 38]\n",
      " [40 42]\n",
      " [44 46]\n",
      " [48 50]\n",
      " [52 54]\n",
      " [56 58]]\n",
      "horizontal split:\n"
     ]
    },
    {
     "data": {
      "text/plain": [
       "[array([[ 0],\n",
       "        [ 4],\n",
       "        [ 8],\n",
       "        [12],\n",
       "        [16],\n",
       "        [20],\n",
       "        [24],\n",
       "        [28],\n",
       "        [32],\n",
       "        [36],\n",
       "        [40],\n",
       "        [44],\n",
       "        [48],\n",
       "        [52],\n",
       "        [56]]), array([[ 2],\n",
       "        [ 6],\n",
       "        [10],\n",
       "        [14],\n",
       "        [18],\n",
       "        [22],\n",
       "        [26],\n",
       "        [30],\n",
       "        [34],\n",
       "        [38],\n",
       "        [42],\n",
       "        [46],\n",
       "        [50],\n",
       "        [54],\n",
       "        [58]])]"
      ]
     },
     "execution_count": 24,
     "metadata": {},
     "output_type": "execute_result"
    }
   ],
   "source": [
    "#Horizontal spliting\n",
    "#spliting \n",
    "\n",
    "import numpy as np\n",
    "\n",
    "a = np.arange(0,60,2).reshape(15,2)\n",
    "print(\"array is:\",a)\n",
    "\n",
    "print(\"horizontal split:\")\n",
    "np.hsplit(a,2)\n",
    "\n"
   ]
  },
  {
   "cell_type": "code",
   "execution_count": null,
   "metadata": {},
   "outputs": [],
   "source": []
  },
  {
   "cell_type": "code",
   "execution_count": null,
   "metadata": {},
   "outputs": [],
   "source": []
  }
 ],
 "metadata": {
  "kernelspec": {
   "display_name": "Python 3",
   "language": "python",
   "name": "python3"
  },
  "language_info": {
   "codemirror_mode": {
    "name": "ipython",
    "version": 3
   },
   "file_extension": ".py",
   "mimetype": "text/x-python",
   "name": "python",
   "nbconvert_exporter": "python",
   "pygments_lexer": "ipython3",
   "version": "3.6.5"
  }
 },
 "nbformat": 4,
 "nbformat_minor": 2
}
