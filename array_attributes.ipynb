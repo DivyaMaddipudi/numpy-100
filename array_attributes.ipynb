{
 "cells": [
  {
   "cell_type": "code",
   "execution_count": 5,
   "metadata": {},
   "outputs": [
    {
     "name": "stdout",
     "output_type": "stream",
     "text": [
      "array shape:\n",
      "(2, 3)\n",
      "item size is:\n",
      "4\n",
      "flags are\n",
      "  C_CONTIGUOUS : True\n",
      "  F_CONTIGUOUS : False\n",
      "  OWNDATA : True\n",
      "  WRITEABLE : True\n",
      "  ALIGNED : True\n",
      "  WRITEBACKIFCOPY : False\n",
      "  UPDATEIFCOPY : False\n",
      "[[12. 13.]\n",
      " [23. 40.]\n",
      " [32. 56.]]\n",
      "array of numbers:\n",
      "[ 0  1  2  3  4  5  6  7  8  9 10 11 12 13 14 15 16 17 18 19 20 21 22 23\n",
      " 24 25 26 27 28 29 30 31 32 33 34 35 36 37 38 39 40 41 42 43 44 45 46 47\n",
      " 48 49 50 51 52 53 54 55 56 57 58 59 60 61 62 63 64 65 66 67 68 69 70 71\n",
      " 72 73 74 75 76 77 78 79 80 81 82 83 84 85 86 87 88 89 90 91 92 93 94 95\n",
      " 96 97 98 99]\n"
     ]
    }
   ],
   "source": [
    "#size of an array\n",
    "\n",
    "import numpy as md\n",
    "\n",
    "arr = md.array([[12,13,23], [40,32,56]])\n",
    "\n",
    "print(\"array shape:\")\n",
    "\n",
    "print(arr.shape)\n",
    "\n",
    "#resize the array, item size, flags\n",
    "\n",
    "import numpy as md\n",
    "\n",
    "arr = md.array([[12,13,23],[40,32,56]], dtype = md.float32)\n",
    "print(\"item size is:\")\n",
    "print(arr.itemsize)\n",
    "\n",
    "print(\"flags are\")\n",
    "print(arr.flags)\n",
    "\n",
    "arr.shape=(3,2)  #a = arr.reshape(3,2)\n",
    "\n",
    "print(arr)\n",
    "\n",
    "#array of numbers\n",
    "\n",
    "import numpy as md\n",
    "\n",
    "print(\"array of numbers:\")\n",
    "arr = md.arange(100)\n",
    "\n",
    "print(arr)"
   ]
  },
  {
   "cell_type": "code",
   "execution_count": null,
   "metadata": {},
   "outputs": [],
   "source": []
  }
 ],
 "metadata": {
  "kernelspec": {
   "display_name": "Python 3",
   "language": "python",
   "name": "python3"
  },
  "language_info": {
   "codemirror_mode": {
    "name": "ipython",
    "version": 3
   },
   "file_extension": ".py",
   "mimetype": "text/x-python",
   "name": "python",
   "nbconvert_exporter": "python",
   "pygments_lexer": "ipython3",
   "version": "3.6.5"
  }
 },
 "nbformat": 4,
 "nbformat_minor": 2
}
