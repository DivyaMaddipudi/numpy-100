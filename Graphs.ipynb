{
 "cells": [
  {
   "cell_type": "code",
   "execution_count": 41,
   "metadata": {},
   "outputs": [
    {
     "data": {
      "image/png": "[encoded data removed]",
      "text/plain": [
       "<Figure size 432x288 with 1 Axes>"
      ]
     },
     "metadata": {},
     "output_type": "display_data"
    }
   ],
   "source": [
    "import numpy as np\n",
    "import matplotlib.pyplot as plt\n",
    "\n",
    "N = 8\n",
    "\n",
    "y = np.zeros(N)\n",
    "\n",
    "x1 =np.linspace(0,10,N,endpoint = True)\n",
    "\n",
    "x2 =np.linspace(0,10,N,endpoint = False)\n",
    "\n",
    "plt.plot(x1,y,'o')\n",
    "\n",
    "#[<matplotlib.lines.Line2D object at 0x...>]\n",
    "\n",
    "plt.plot(x2,y + 0.5,'o')\n",
    "\n",
    "#[<matplotlib.lines.Line2D object at 0x...>]\n",
    "\n",
    "plt.ylim =([-0.5,0])\n",
    "\n",
    "plt.show()"
   ]
  },
  {
   "cell_type": "code",
   "execution_count": 44,
   "metadata": {},
   "outputs": [
    {
     "name": "stdout",
     "output_type": "stream",
     "text": [
      "[[5.02786672 6.54195196 5.78005385]\n",
      " [9.71404082 8.75064735 6.28819339]\n",
      " [5.00937688 7.26295107 6.55803751]\n",
      " [7.83923356 8.45827608 7.96493486]]\n"
     ]
    }
   ],
   "source": [
    "import numpy as np\n",
    "\n",
    "a =5* np.random.random((4,3)) + 5\n",
    "\n",
    "print(a)"
   ]
  },
  {
   "cell_type": "code",
   "execution_count": 48,
   "metadata": {},
   "outputs": [
    {
     "name": "stdout",
     "output_type": "stream",
     "text": [
      "[0.37257369 0.02203732 0.88635857]\n"
     ]
    }
   ],
   "source": [
    "import numpy as np\n",
    "\n",
    "a = np.random.rand(3)\n",
    "\n",
    "print(a)"
   ]
  },
  {
   "cell_type": "code",
   "execution_count": 62,
   "metadata": {},
   "outputs": [
    {
     "name": "stdout",
     "output_type": "stream",
     "text": [
      "None\n"
     ]
    }
   ],
   "source": [
    "print(np.set_printoptions(threshold=np.nan))"
   ]
  },
  {
   "cell_type": "code",
   "execution_count": 70,
   "metadata": {},
   "outputs": [
    {
     "name": "stdout",
     "output_type": "stream",
     "text": [
      "[[0. 1.]\n",
      " [2. 3.]\n",
      " [4. 5.]]\n",
      "[[1. 2.]\n",
      " [3. 4.]\n",
      " [5. 6.]]\n",
      "modified a is \n",
      " [[ 0.  2.]\n",
      " [ 6. 12.]\n",
      " [20. 30.]]\n"
     ]
    }
   ],
   "source": [
    "a = np.arange(6,dtype='float').reshape(3,2)\n",
    "\n",
    "print(a)\n",
    "\n",
    "b=np.arange(1,7,dtype='float').reshape(3,2)\n",
    "\n",
    "print(b)\n",
    "\n",
    "a *= b\n",
    "\n",
    "print(\"modified a is \\n\",a)"
   ]
  },
  {
   "cell_type": "code",
   "execution_count": 83,
   "metadata": {},
   "outputs": [
    {
     "name": "stdout",
     "output_type": "stream",
     "text": [
      "[[0 1]\n",
      " [2 3]\n",
      " [4 5]]\n",
      "[[ 6.  7.]\n",
      " [ 8.  9.]\n",
      " [10. 11.]]\n",
      "c\n",
      " [[ 6.  8.]\n",
      " [10. 12.]\n",
      " [14. 16.]]\n",
      "[[ 0.96017029-0.2794155j  -0.14550003+0.98935825j]\n",
      " [-0.83907153-0.54402111j  0.84385396-0.53657292j]\n",
      " [ 0.13673722+0.99060736j -0.95765948-0.28790332j]]\n",
      "d \n",
      " [[2.98095799e+03 2.20264658e+04]\n",
      " [1.62754791e+05 1.20260428e+06]\n",
      " [8.88611052e+06 6.56599691e+07]]\n"
     ]
    }
   ],
   "source": [
    "a = np.arange(6,dtype = np.int32).reshape(3,2)\n",
    "print(a)\n",
    "\n",
    "b=np.arange(6,12,dtype='float').reshape(3,2)\n",
    "\n",
    "print(b)\n",
    "\n",
    "c=a+b\n",
    "\n",
    "print(\"c\\n\",c)\n",
    "\n",
    "d = np.exp(c*1j)\n",
    "\n",
    "print(d)\n",
    "\n",
    "print(\"d \\n\",np.exp(c+2))"
   ]
  },
  {
   "cell_type": "code",
   "execution_count": 100,
   "metadata": {},
   "outputs": [
    {
     "name": "stdout",
     "output_type": "stream",
     "text": [
      "reverse\n",
      "[  729   512   343   216   125 -1000    27 -1000     1 -1000]\n",
      "nan\n",
      "1.0\n",
      "nan\n",
      "3.0\n",
      "nan\n",
      "5.0\n",
      "5.999999999999999\n",
      "6.999999999999999\n",
      "7.999999999999999\n",
      "8.999999999999998\n"
     ]
    },
    {
     "name": "stderr",
     "output_type": "stream",
     "text": [
      "C:\\Users\\divya\\Anaconda3\\lib\\site-packages\\ipykernel_launcher.py:11: RuntimeWarning: invalid value encountered in power\n",
      "  # This is added back by InteractiveShellApp.init_path()\n"
     ]
    }
   ],
   "source": [
    "a = np.arange(10)**3\n",
    "\n",
    "a[:6:2]= -1000\n",
    "\n",
    "print(\"reverse\")\n",
    "b = a[::-1]\n",
    "\n",
    "print(b)\n",
    "\n",
    "for i in a:\n",
    "    print((i**(1/3.)))"
   ]
  },
  {
   "cell_type": "code",
   "execution_count": 111,
   "metadata": {},
   "outputs": [
    {
     "name": "stdout",
     "output_type": "stream",
     "text": [
      "[[ 0  1  2  3]\n",
      " [10 11 12 13]\n",
      " [20 21 22 23]]\n"
     ]
    },
    {
     "data": {
      "text/plain": [
       "22"
      ]
     },
     "execution_count": 111,
     "metadata": {},
     "output_type": "execute_result"
    }
   ],
   "source": [
    "def f(x,y):\n",
    "    return 10*x+y\n",
    "a = np.fromfunction(f,(3,4),dtype='int')\n",
    "print(a)\n",
    "\n",
    "a[2,2]"
   ]
  },
  {
   "cell_type": "code",
   "execution_count": null,
   "metadata": {},
   "outputs": [],
   "source": []
  }
 ],
 "metadata": {
  "kernelspec": {
   "display_name": "Python 3",
   "language": "python",
   "name": "python3"
  },
  "language_info": {
   "codemirror_mode": {
    "name": "ipython",
    "version": 3
   },
   "file_extension": ".py",
   "mimetype": "text/x-python",
   "name": "python",
   "nbconvert_exporter": "python",
   "pygments_lexer": "ipython3",
   "version": "3.6.5"
  }
 },
 "nbformat": 4,
 "nbformat_minor": 2
}
