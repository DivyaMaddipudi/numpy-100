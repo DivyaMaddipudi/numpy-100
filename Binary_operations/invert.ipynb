{
 "cells": [
  {
   "cell_type": "code",
   "execution_count": 14,
   "metadata": {},
   "outputs": [
    {
     "name": "stdout",
     "output_type": "stream",
     "text": [
      "invert operation between two numbers\n",
      "0b1010\n",
      "invert of a is:\n",
      "-11\n",
      "-0b1011\n",
      "binary for inver value is:\n"
     ]
    }
   ],
   "source": [
    "#invert\n",
    "\n",
    "import numpy as np\n",
    "\n",
    "print(\"invert operation between two numbers\")\n",
    "\n",
    "a=10\n",
    "\n",
    "print(bin(a))\n",
    "\n",
    "print(\"invert of a is:\")\n",
    "\n",
    "#NOT operation\n",
    "\n",
    "print(np.invert(a))\n",
    "\n",
    "print(bin(np.invert(a)))\n",
    "\n",
    "print(\"binary for inver value is:\")\n"
   ]
  },
  {
   "cell_type": "code",
   "execution_count": null,
   "metadata": {},
   "outputs": [],
   "source": []
  },
  {
   "cell_type": "code",
   "execution_count": null,
   "metadata": {},
   "outputs": [],
   "source": []
  }
 ],
 "metadata": {
  "kernelspec": {
   "display_name": "Python 3",
   "language": "python",
   "name": "python3"
  },
  "language_info": {
   "codemirror_mode": {
    "name": "ipython",
    "version": 3
   },
   "file_extension": ".py",
   "mimetype": "text/x-python",
   "name": "python",
   "nbconvert_exporter": "python",
   "pygments_lexer": "ipython3",
   "version": "3.6.5"
  }
 },
 "nbformat": 4,
 "nbformat_minor": 2
}
