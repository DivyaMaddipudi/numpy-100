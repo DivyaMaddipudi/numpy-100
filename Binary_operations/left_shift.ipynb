{
 "cells": [
  {
   "cell_type": "code",
   "execution_count": 8,
   "metadata": {},
   "outputs": [
    {
     "name": "stdout",
     "output_type": "stream",
     "text": [
      "0b1010\n",
      "left_shift of a is :\n",
      "40\n",
      "0b101000\n"
     ]
    }
   ],
   "source": [
    "#left_shift\n",
    "\n",
    "import numpy as np\n",
    "a=10\n",
    "\n",
    "print(bin(a))\n",
    "\n",
    "print(\"left_shift of a is :\")\n",
    "\n",
    "print(np.left_shift(a,2))\n",
    "\n",
    "res = np.left_shift(a,2) #similarly, for right\n",
    "\n",
    "print(bin(res))\n"
   ]
  },
  {
   "cell_type": "code",
   "execution_count": null,
   "metadata": {},
   "outputs": [],
   "source": []
  }
 ],
 "metadata": {
  "kernelspec": {
   "display_name": "Python 3",
   "language": "python",
   "name": "python3"
  },
  "language_info": {
   "codemirror_mode": {
    "name": "ipython",
    "version": 3
   },
   "file_extension": ".py",
   "mimetype": "text/x-python",
   "name": "python",
   "nbconvert_exporter": "python",
   "pygments_lexer": "ipython3",
   "version": "3.6.5"
  }
 },
 "nbformat": 4,
 "nbformat_minor": 2
}
