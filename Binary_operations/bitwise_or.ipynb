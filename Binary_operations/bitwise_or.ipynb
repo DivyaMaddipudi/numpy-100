{
 "cells": [
  {
   "cell_type": "code",
   "execution_count": 3,
   "metadata": {},
   "outputs": [
    {
     "name": "stdout",
     "output_type": "stream",
     "text": [
      "bitwise_or between two numbers\n",
      "0b101 0b110\n",
      "bitwise_or between 5 and 6\n",
      "7\n"
     ]
    }
   ],
   "source": [
    "#Bitwise or\n",
    "\n",
    "import numpy as np\n",
    "\n",
    "print(\"bitwise_or between two numbers\")\n",
    "\n",
    "a,b =5,6\n",
    "\n",
    "print(bin(a),bin(b))\n",
    "print(\"bitwise_or between 5 and 6\")\n",
    "print(np.bitwise_or(5,6))"
   ]
  },
  {
   "cell_type": "code",
   "execution_count": null,
   "metadata": {},
   "outputs": [],
   "source": []
  }
 ],
 "metadata": {
  "kernelspec": {
   "display_name": "Python 3",
   "language": "python",
   "name": "python3"
  },
  "language_info": {
   "codemirror_mode": {
    "name": "ipython",
    "version": 3
   },
   "file_extension": ".py",
   "mimetype": "text/x-python",
   "name": "python",
   "nbconvert_exporter": "python",
   "pygments_lexer": "ipython3",
   "version": "3.6.5"
  }
 },
 "nbformat": 4,
 "nbformat_minor": 2
}
