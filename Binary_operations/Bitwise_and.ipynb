{
 "cells": [
  {
   "cell_type": "code",
   "execution_count": 2,
   "metadata": {},
   "outputs": [
    {
     "name": "stdout",
     "output_type": "stream",
     "text": [
      "Binary operation between two numbers\n",
      "0b101 0b110\n",
      "bitwise and between 5 and 6\n",
      "4\n"
     ]
    }
   ],
   "source": [
    "#Bitwise and\n",
    "\n",
    "import numpy as np\n",
    "\n",
    "print(\"Binary operation between two numbers\")\n",
    "\n",
    "a,b = 5,6\n",
    "\n",
    "print(bin(a),bin(b))\n",
    "\n",
    "print(\"bitwise and between 5 and 6\")\n",
    "\n",
    "print(np.bitwise_and(5,6))"
   ]
  },
  {
   "cell_type": "code",
   "execution_count": null,
   "metadata": {},
   "outputs": [],
   "source": []
  }
 ],
 "metadata": {
  "kernelspec": {
   "display_name": "Python 3",
   "language": "python",
   "name": "python3"
  },
  "language_info": {
   "codemirror_mode": {
    "name": "ipython",
    "version": 3
   },
   "file_extension": ".py",
   "mimetype": "text/x-python",
   "name": "python",
   "nbconvert_exporter": "python",
   "pygments_lexer": "ipython3",
   "version": "3.6.5"
  }
 },
 "nbformat": 4,
 "nbformat_minor": 2
}
