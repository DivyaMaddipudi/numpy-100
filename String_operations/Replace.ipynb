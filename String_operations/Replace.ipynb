{
 "cells": [
  {
   "cell_type": "code",
   "execution_count": 8,
   "metadata": {},
   "outputs": [
    {
     "name": "stdout",
     "output_type": "stream",
     "text": [
      "helll\n",
      "Hello\n"
     ]
    }
   ],
   "source": [
    "#replacing a char\n",
    "\n",
    "import numpy as np\n",
    "\n",
    "a=\"hello\"\n",
    "\n",
    "print(np.char.replace(a,'o','l'))\n",
    "\n"
   ]
  },
  {
   "cell_type": "code",
   "execution_count": 6,
   "metadata": {},
   "outputs": [
    {
     "name": "stdout",
     "output_type": "stream",
     "text": [
      "Hatred to None\n"
     ]
    }
   ],
   "source": [
    "#replacing a string\n",
    "\n",
    "import numpy as np\n",
    "\n",
    "print(np.char.replace(\"Hatred to all\",\"all\",\"None\"))"
   ]
  },
  {
   "cell_type": "code",
   "execution_count": null,
   "metadata": {},
   "outputs": [],
   "source": []
  }
 ],
 "metadata": {
  "kernelspec": {
   "display_name": "Python 3",
   "language": "python",
   "name": "python3"
  },
  "language_info": {
   "codemirror_mode": {
    "name": "ipython",
    "version": 3
   },
   "file_extension": ".py",
   "mimetype": "text/x-python",
   "name": "python",
   "nbconvert_exporter": "python",
   "pygments_lexer": "ipython3",
   "version": "3.6.5"
  }
 },
 "nbformat": 4,
 "nbformat_minor": 2
}
