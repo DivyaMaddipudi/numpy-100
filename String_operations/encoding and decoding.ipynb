{
 "cells": [
  {
   "cell_type": "code",
   "execution_count": 1,
   "metadata": {},
   "outputs": [
    {
     "name": "stdout",
     "output_type": "stream",
     "text": [
      "b'\\x84\\x89\\xa5\\xa8\\x81'\n"
     ]
    }
   ],
   "source": [
    "#encoding\n",
    "import numpy as np\n",
    "\n",
    "a = np.char.encode('divya','cp500')\n",
    "print (a)"
   ]
  },
  {
   "cell_type": "code",
   "execution_count": 18,
   "metadata": {},
   "outputs": [
    {
     "name": "stdout",
     "output_type": "stream",
     "text": [
      "b'\\x84\\x89\\xa5\\xa8\\x81'\n",
      "divya\n"
     ]
    }
   ],
   "source": [
    "#decode\n",
    "\n",
    "import numpy as np \n",
    "\n",
    "a = np.char.encode('divya', 'cp500') \n",
    "print (a) \n",
    "print (np.char.decode(a,'cp500'))"
   ]
  },
  {
   "cell_type": "code",
   "execution_count": null,
   "metadata": {},
   "outputs": [],
   "source": []
  }
 ],
 "metadata": {
  "kernelspec": {
   "display_name": "Python 3",
   "language": "python",
   "name": "python3"
  },
  "language_info": {
   "codemirror_mode": {
    "name": "ipython",
    "version": 3
   },
   "file_extension": ".py",
   "mimetype": "text/x-python",
   "name": "python",
   "nbconvert_exporter": "python",
   "pygments_lexer": "ipython3",
   "version": "3.6.5"
  }
 },
 "nbformat": 4,
 "nbformat_minor": 2
}
