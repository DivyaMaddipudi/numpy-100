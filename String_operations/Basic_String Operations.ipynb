{
 "cells": [
  {
   "cell_type": "code",
   "execution_count": 8,
   "metadata": {},
   "outputs": [
    {
     "name": "stdout",
     "output_type": "stream",
     "text": [
      "capitalize the first letter\n",
      "Love to all\n",
      "\n",
      "\n",
      "Title\n",
      "Love To All\n",
      "\n",
      "\n",
      "splits all the words in the string\n",
      "['love', 'to', 'all']\n",
      "\n",
      "\n",
      "splitnes makes the entire string into a one word array\n",
      "['love to all']\n",
      "\n",
      "\n"
     ]
    }
   ],
   "source": [
    "#capitalie\n",
    "\n",
    "import numpy as np\n",
    "\n",
    "a = \"love to all\"\n",
    "\n",
    "print(\"capitalize the first letter\")\n",
    "print(np.char.capitalize(a))\n",
    "\n",
    "print(\"\\n\")\n",
    "\n",
    "print(\"Title\")\n",
    "print(np.char.title(a))\n",
    "\n",
    "print(\"\\n\")\n",
    "\n",
    "print(\"splits all the words in the string\")\n",
    "\n",
    "print(np.char.split(a))\n",
    "\n",
    "print(\"\\n\")\n",
    "\n",
    "print(\"splitnes makes the entire string into a one word array\")\n",
    "\n",
    "print(np.char.splitlines(a))\n",
    "\n",
    "print(\"\\n\")\n"
   ]
  },
  {
   "cell_type": "code",
   "execution_count": null,
   "metadata": {},
   "outputs": [],
   "source": []
  }
 ],
 "metadata": {
  "kernelspec": {
   "display_name": "Python 3",
   "language": "python",
   "name": "python3"
  },
  "language_info": {
   "codemirror_mode": {
    "name": "ipython",
    "version": 3
   },
   "file_extension": ".py",
   "mimetype": "text/x-python",
   "name": "python",
   "nbconvert_exporter": "python",
   "pygments_lexer": "ipython3",
   "version": "3.6.5"
  }
 },
 "nbformat": 4,
 "nbformat_minor": 2
}
