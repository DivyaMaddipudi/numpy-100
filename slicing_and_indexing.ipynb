{
 "cells": [
  {
   "cell_type": "code",
   "execution_count": 2,
   "metadata": {},
   "outputs": [
    {
     "name": "stdout",
     "output_type": "stream",
     "text": [
      "[0 2 4 6 8]\n",
      "[[3 5 4]\n",
      " [8 6 7]]\n",
      "our array is\n",
      "[[1 2 4]\n",
      " [3 5 4]\n",
      " [8 6 7]]\n",
      "\n",
      "\n",
      "when used elipsis\n",
      "[3 5 4]\n",
      "\n",
      "\n"
     ]
    }
   ],
   "source": [
    "#slicing\n",
    "\n",
    "import numpy as np\n",
    "\n",
    "arr  = np.arange(10)\n",
    "\n",
    "s = arr[0:9:2] #s = slice (0,9,2)\n",
    "\n",
    "print(s)\n",
    "\n",
    "#array slicing\n",
    "\n",
    "import numpy as np\n",
    "\n",
    "arr = np.array([[1,2,4], [3,5,4], [8,6,7]])\n",
    "\n",
    "print (arr[1:])\n",
    "\n",
    "print(\"our array is\")\n",
    "\n",
    "print(arr)\n",
    "\n",
    "print('\\n')\n",
    "\n",
    "print(\"when used elipsis\")\n",
    "\n",
    "print(arr[1,...]) #elipsis\n",
    "\n",
    "print('\\n')"
   ]
  },
  {
   "cell_type": "code",
   "execution_count": 40,
   "metadata": {},
   "outputs": [
    {
     "name": "stdout",
     "output_type": "stream",
     "text": [
      "x\n",
      "[[11]\n",
      " [33]\n",
      " [55]]\n",
      "y\n",
      "[22 44 66]\n"
     ]
    }
   ],
   "source": [
    "\n",
    "import numpy as np\n",
    "\n",
    "a = np.array([[11,22],[33,44 ],[55,66]])\n",
    "\n",
    "\n",
    "x, y = a[:, :-1], a[:, -1]\n",
    "\n",
    "print(\"x\")\n",
    "print(x)\n",
    "\n",
    "print(\"y\")\n",
    "print(y)\n"
   ]
  },
  {
   "cell_type": "code",
   "execution_count": null,
   "metadata": {},
   "outputs": [],
   "source": []
  },
  {
   "cell_type": "code",
   "execution_count": null,
   "metadata": {},
   "outputs": [],
   "source": []
  }
 ],
 "metadata": {
  "kernelspec": {
   "display_name": "Python 3",
   "language": "python",
   "name": "python3"
  },
  "language_info": {
   "codemirror_mode": {
    "name": "ipython",
    "version": 3
   },
   "file_extension": ".py",
   "mimetype": "text/x-python",
   "name": "python",
   "nbconvert_exporter": "python",
   "pygments_lexer": "ipython3",
   "version": "3.6.5"
  }
 },
 "nbformat": 4,
 "nbformat_minor": 2
}
