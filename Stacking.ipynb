{
 "cells": [
  {
   "cell_type": "code",
   "execution_count": 6,
   "metadata": {},
   "outputs": [
    {
     "name": "stdout",
     "output_type": "stream",
     "text": [
      "array a is [[0 1]\n",
      " [2 3]\n",
      " [4 5]]\n",
      "\n",
      "\n",
      "array b is [[ 6  7]\n",
      " [ 8  9]\n",
      " [10 11]]\n",
      "horizontal stacking\n",
      "[[ 0  1  6  7]\n",
      " [ 2  3  8  9]\n",
      " [ 4  5 10 11]]\n",
      "\n",
      "\n",
      "vertical stacking\n",
      "[[ 0  1]\n",
      " [ 2  3]\n",
      " [ 4  5]\n",
      " [ 6  7]\n",
      " [ 8  9]\n",
      " [10 11]]\n"
     ]
    }
   ],
   "source": [
    "#Array Manipulations and functions\n",
    "\n",
    "import numpy as np\n",
    "\n",
    "a= np.arange(6).reshape(3,2)\n",
    "print(\"array a is\",a)\n",
    "print('\\n')\n",
    "\n",
    "b=np.arange(6,12).reshape(3,2)\n",
    "print(\"array b is\", b)\n",
    "\n",
    "print(\"horizontal stacking\")\n",
    "print(np.hstack((a,b)))\n",
    "\n",
    "print(\"\\n\")\n",
    "\n",
    "print(\"vertical stacking\")\n",
    "print(np.vstack((a,b)))\n"
   ]
  },
  {
   "cell_type": "code",
   "execution_count": null,
   "metadata": {},
   "outputs": [],
   "source": []
  }
 ],
 "metadata": {
  "kernelspec": {
   "display_name": "Python 3",
   "language": "python",
   "name": "python3"
  },
  "language_info": {
   "codemirror_mode": {
    "name": "ipython",
    "version": 3
   },
   "file_extension": ".py",
   "mimetype": "text/x-python",
   "name": "python",
   "nbconvert_exporter": "python",
   "pygments_lexer": "ipython3",
   "version": "3.6.5"
  }
 },
 "nbformat": 4,
 "nbformat_minor": 2
}
