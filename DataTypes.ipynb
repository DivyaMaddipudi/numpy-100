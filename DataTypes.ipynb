{
 "cells": [
  {
   "cell_type": "code",
   "execution_count": 1,
   "metadata": {},
   "outputs": [
    {
     "name": "stdout",
     "output_type": "stream",
     "text": [
      "int8\n",
      "int8\n",
      "[(10,) (20,) (30,)]\n",
      "[10 20 30]\n",
      "[(b'divya', 1, 25.) (b'sri', 2, 30.)]\n"
     ]
    }
   ],
   "source": [
    "#Data Types in numpy\n",
    "\n",
    "import numpy as md\n",
    "\n",
    "val = md.dtype('i1')\n",
    "\n",
    "print(val)\n",
    "\n",
    "#or\n",
    "\n",
    "import numpy as md\n",
    "\n",
    "val = md.dtype(md.int8)\n",
    "\n",
    "print(val)\n",
    "\n",
    "#Applying datatype to array\n",
    "\n",
    "import numpy as md\n",
    "\n",
    "dt = md.dtype([('val', md.int8)])\n",
    "value = md.array([10,20,30], dtype=dt)\n",
    "\n",
    "print(value)\n",
    "\n",
    "print(value['val'])\n",
    "\n",
    "#using String, Integer and Float datatypes\n",
    "\n",
    "import numpy as md\n",
    "\n",
    "dt = md.dtype([('name', 'S20'), ('Reg','i1'), ('marks', 'f4')])\n",
    "\n",
    "value=md.array([('divya', 1, 25), ('sri', 2, 30)], dtype=dt)\n",
    "\n",
    "print(value)"
   ]
  },
  {
   "cell_type": "code",
   "execution_count": 25,
   "metadata": {},
   "outputs": [
    {
     "name": "stdout",
     "output_type": "stream",
     "text": [
      "[[1.5 2.  3.  4. ]\n",
      " [4.  5.  6.  7. ]\n",
      " [8.  0.  9.  1. ]]\n",
      "float64\n",
      "8\n"
     ]
    }
   ],
   "source": [
    "import numpy as np\n",
    "\n",
    "a = np.array([[1.5,2,3,4],[4,5,6,7],[8,0,9,1]],dtype = 'float')\n",
    "\n",
    "print(a)\n",
    "\n",
    "print(a.dtype)\n",
    "\n",
    "print(a.itemsize)"
   ]
  },
  {
   "cell_type": "code",
   "execution_count": 35,
   "metadata": {},
   "outputs": [
    {
     "name": "stdout",
     "output_type": "stream",
     "text": [
      "[0.         0.02020202 0.04040404 0.06060606 0.08080808 0.1010101\n",
      " 0.12121212 0.14141414 0.16161616 0.18181818 0.2020202  0.22222222\n",
      " 0.24242424 0.26262626 0.28282828 0.3030303  0.32323232 0.34343434\n",
      " 0.36363636 0.38383838 0.4040404  0.42424242 0.44444444 0.46464646\n",
      " 0.48484848 0.50505051 0.52525253 0.54545455 0.56565657 0.58585859\n",
      " 0.60606061 0.62626263 0.64646465 0.66666667 0.68686869 0.70707071\n",
      " 0.72727273 0.74747475 0.76767677 0.78787879 0.80808081 0.82828283\n",
      " 0.84848485 0.86868687 0.88888889 0.90909091 0.92929293 0.94949495\n",
      " 0.96969697 0.98989899 1.01010101 1.03030303 1.05050505 1.07070707\n",
      " 1.09090909 1.11111111 1.13131313 1.15151515 1.17171717 1.19191919\n",
      " 1.21212121 1.23232323 1.25252525 1.27272727 1.29292929 1.31313131\n",
      " 1.33333333 1.35353535 1.37373737 1.39393939 1.41414141 1.43434343\n",
      " 1.45454545 1.47474747 1.49494949 1.51515152 1.53535354 1.55555556\n",
      " 1.57575758 1.5959596  1.61616162 1.63636364 1.65656566 1.67676768\n",
      " 1.6969697  1.71717172 1.73737374 1.75757576 1.77777778 1.7979798\n",
      " 1.81818182 1.83838384 1.85858586 1.87878788 1.8989899  1.91919192\n",
      " 1.93939394 1.95959596 1.97979798 2.        ]\n",
      "sin\n",
      "[0.         0.02020065 0.04039305 0.06056897 0.08072016 0.10083842\n",
      " 0.12091552 0.14094328 0.16091352 0.18081808 0.20064886 0.22039774\n",
      " 0.24005668 0.25961766 0.27907268 0.2984138  0.31763315 0.33672286\n",
      " 0.35567516 0.3744823  0.39313661 0.41163048 0.42995636 0.44810678\n",
      " 0.46607431 0.48385164 0.5014315  0.51880673 0.53597023 0.55291499\n",
      " 0.56963411 0.58612075 0.60236819 0.6183698  0.63411905 0.64960951\n",
      " 0.66483486 0.67978889 0.69446549 0.70885867 0.72296256 0.73677141\n",
      " 0.75027957 0.76348154 0.77637192 0.78894546 0.80119703 0.81312162\n",
      " 0.82471437 0.83597055 0.84688556 0.85745496 0.86767441 0.87753977\n",
      " 0.88704699 0.8961922  0.90497167 0.91338181 0.9214192  0.92908054\n",
      " 0.93636273 0.94326277 0.94977786 0.95590534 0.96164271 0.96698762\n",
      " 0.9719379  0.97649152 0.98064663 0.98440153 0.98775469 0.99070474\n",
      " 0.99325047 0.99539085 0.99712501 0.99845223 0.99937197 0.99988386\n",
      " 0.99998769 0.99968342 0.99897117 0.99785123 0.99632407 0.99439029\n",
      " 0.99205069 0.98930624 0.98615803 0.98260737 0.9786557  0.97430464\n",
      " 0.96955595 0.96441158 0.95887362 0.95294434 0.94662616 0.93992165\n",
      " 0.93283355 0.92536476 0.91751832 0.90929743]\n"
     ]
    }
   ],
   "source": [
    "import numpy as np\n",
    "\n",
    "a =np.linspace(0, 2, 100)\n",
    "\n",
    "print(a)\n",
    "\n",
    "f=np.sin(a)\n",
    "print(\"sin\")\n",
    "print(f)"
   ]
  },
  {
   "cell_type": "code",
   "execution_count": 41,
   "metadata": {},
   "outputs": [
    {
     "name": "stdout",
     "output_type": "stream",
     "text": [
      "[[1 2]\n",
      " [5 4]\n",
      " [6 7]]\n"
     ]
    }
   ],
   "source": [
    "import numpy as np\n",
    "\n",
    "a = np.array([[1,2],[5,4],[6,7]],order = 'C', subok=True)\n",
    "\n",
    "print(a)"
   ]
  },
  {
   "cell_type": "code",
   "execution_count": 50,
   "metadata": {},
   "outputs": [
    {
     "name": "stdout",
     "output_type": "stream",
     "text": [
      "[[1 2]\n",
      " [3 4]]\n"
     ]
    }
   ],
   "source": [
    "import numpy as np\n",
    "\n",
    "x =np.array([[1,2],[3,4]], dtype =[('a','int32'),('b','int8')])\n",
    "\n",
    "print(x['b'])"
   ]
  },
  {
   "cell_type": "code",
   "execution_count": 53,
   "metadata": {},
   "outputs": [
    {
     "name": "stdout",
     "output_type": "stream",
     "text": [
      "[[1 2]\n",
      " [3 4]]\n"
     ]
    }
   ],
   "source": [
    " a = np.array(np.mat('1 2; 3 4'))\n",
    "print(a)"
   ]
  },
  {
   "cell_type": "code",
   "execution_count": 63,
   "metadata": {},
   "outputs": [
    {
     "data": {
      "text/plain": [
       "array([(0, 0), (0, 0)], dtype=[('x', '<i4'), ('y', '<i4')])"
      ]
     },
     "execution_count": 63,
     "metadata": {},
     "output_type": "execute_result"
    }
   ],
   "source": [
    "np.zeros((2,), dtype=[('x', 'i4'), ('y', 'i4')])"
   ]
  },
  {
   "cell_type": "code",
   "execution_count": 76,
   "metadata": {},
   "outputs": [
    {
     "data": {
      "text/plain": [
       "array([[10.+0.j, 10.+0.j],\n",
       "       [10.+0.j, 10.+0.j],\n",
       "       [10.+0.j, 10.+0.j]])"
      ]
     },
     "execution_count": 76,
     "metadata": {},
     "output_type": "execute_result"
    }
   ],
   "source": [
    "np.full((3,2),10,dtype='complex')"
   ]
  },
  {
   "cell_type": "code",
   "execution_count": null,
   "metadata": {},
   "outputs": [],
   "source": []
  },
  {
   "cell_type": "code",
   "execution_count": null,
   "metadata": {},
   "outputs": [],
   "source": []
  }
 ],
 "metadata": {
  "kernelspec": {
   "display_name": "Python 3",
   "language": "python",
   "name": "python3"
  },
  "language_info": {
   "codemirror_mode": {
    "name": "ipython",
    "version": 3
   },
   "file_extension": ".py",
   "mimetype": "text/x-python",
   "name": "python",
   "nbconvert_exporter": "python",
   "pygments_lexer": "ipython3",
   "version": "3.6.5"
  }
 },
 "nbformat": 4,
 "nbformat_minor": 2
}
