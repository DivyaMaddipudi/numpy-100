{
 "cells": [
  {
   "cell_type": "code",
   "execution_count": 1,
   "metadata": {},
   "outputs": [
    {
     "name": "stdout",
     "output_type": "stream",
     "text": [
      "int8\n",
      "int8\n",
      "[(10,) (20,) (30,)]\n",
      "[10 20 30]\n",
      "[(b'divya', 1, 25.) (b'sri', 2, 30.)]\n"
     ]
    }
   ],
   "source": [
    "#Data Types in numpy\n",
    "\n",
    "import numpy as md\n",
    "\n",
    "val = md.dtype('i1')\n",
    "\n",
    "print(val)\n",
    "\n",
    "#or\n",
    "\n",
    "import numpy as md\n",
    "\n",
    "val = md.dtype(md.int8)\n",
    "\n",
    "print(val)\n",
    "\n",
    "#Applying datatype to array\n",
    "\n",
    "import numpy as md\n",
    "\n",
    "dt = md.dtype([('val', md.int8)])\n",
    "value = md.array([10,20,30], dtype=dt)\n",
    "\n",
    "print(value)\n",
    "\n",
    "print(value['val'])\n",
    "\n",
    "#using String, Integer and Float datatypes\n",
    "\n",
    "import numpy as md\n",
    "\n",
    "dt = md.dtype([('name', 'S20'), ('Reg','i1'), ('marks', 'f4')])\n",
    "\n",
    "value=md.array([('divya', 1, 25), ('sri', 2, 30)], dtype=dt)\n",
    "\n",
    "print(value)"
   ]
  },
  {
   "cell_type": "code",
   "execution_count": null,
   "metadata": {},
   "outputs": [],
   "source": []
  }
 ],
 "metadata": {
  "kernelspec": {
   "display_name": "Python 3",
   "language": "python",
   "name": "python3"
  },
  "language_info": {
   "codemirror_mode": {
    "name": "ipython",
    "version": 3
   },
   "file_extension": ".py",
   "mimetype": "text/x-python",
   "name": "python",
   "nbconvert_exporter": "python",
   "pygments_lexer": "ipython3",
   "version": "3.6.5"
  }
 },
 "nbformat": 4,
 "nbformat_minor": 2
}
