{
 "cells": [
  {
   "cell_type": "code",
   "execution_count": 6,
   "metadata": {},
   "outputs": [
    {
     "name": "stdout",
     "output_type": "stream",
     "text": [
      "array a is: [[ 0  1  2  3]\n",
      " [ 4  5  6  7]\n",
      " [ 8  9 10 11]]\n",
      "array b is: [2 3 4 5]\n",
      "modified array is:\n",
      "0 2\n",
      "1 3\n",
      "2 4\n",
      "3 5\n",
      "4 2\n",
      "5 3\n",
      "6 4\n",
      "7 5\n",
      "8 2\n",
      "9 3\n",
      "10 4\n",
      "11 5\n"
     ]
    }
   ],
   "source": [
    "#Broadcasting the arrays\n",
    "\n",
    "import numpy as np\n",
    "\n",
    "a=np.arange(12).reshape(3,4)\n",
    "print(\"array a is:\",a)\n",
    "\n",
    "b=np.array([2,3,4,5])\n",
    "\n",
    "print(\"array b is:\",b)\n",
    "\n",
    "print(\"modified array is:\")\n",
    "for x,y in np.nditer([a,b]):\n",
    "    print(x,y)"
   ]
  },
  {
   "cell_type": "code",
   "execution_count": null,
   "metadata": {},
   "outputs": [],
   "source": []
  }
 ],
 "metadata": {
  "kernelspec": {
   "display_name": "Python 3",
   "language": "python",
   "name": "python3"
  },
  "language_info": {
   "codemirror_mode": {
    "name": "ipython",
    "version": 3
   },
   "file_extension": ".py",
   "mimetype": "text/x-python",
   "name": "python",
   "nbconvert_exporter": "python",
   "pygments_lexer": "ipython3",
   "version": "3.6.5"
  }
 },
 "nbformat": 4,
 "nbformat_minor": 2
}
