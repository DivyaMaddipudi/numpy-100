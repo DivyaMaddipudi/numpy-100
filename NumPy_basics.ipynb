{
 "cells": [
  {
   "cell_type": "code",
   "execution_count": 1,
   "metadata": {},
   "outputs": [
    {
     "name": "stdout",
     "output_type": "stream",
     "text": [
      "[1 2 3]\n",
      "[[5 3]\n",
      " [6 1]\n",
      " [3 2]]\n",
      "[4 5 6 3 2]\n",
      "[[4.+0.j 5.+0.j]\n",
      " [3.+0.j 2.+0.j]]\n"
     ]
    }
   ],
   "source": [
    "#one dimensional array\n",
    "import numpy as np\n",
    "\n",
    "arr = np.array([1,2,3])\n",
    "\n",
    "print (arr)\n",
    "\n",
    "#more than one dimensional array\n",
    "\n",
    "import numpy as md\n",
    "\n",
    "mat = md.array([[5,3],[6,1],[3,2]])\n",
    "\n",
    "print(mat)\n",
    "\n",
    "#using ndmin\n",
    "\n",
    "import numpy as md\n",
    "\n",
    "mat = md.array([4,5,6,3,2],ndmin=0)\n",
    "\n",
    "print(mat)\n",
    "\n",
    "#for complex numbers\n",
    "\n",
    "import numpy as md\n",
    "\n",
    "comp = md.array([[4,5],[3,2]],dtype=complex)\n",
    "\n",
    "print(comp)"
   ]
  },
  {
   "cell_type": "code",
   "execution_count": null,
   "metadata": {},
   "outputs": [],
   "source": []
  }
 ],
 "metadata": {
  "kernelspec": {
   "display_name": "Python 3",
   "language": "python",
   "name": "python3"
  },
  "language_info": {
   "codemirror_mode": {
    "name": "ipython",
    "version": 3
   },
   "file_extension": ".py",
   "mimetype": "text/x-python",
   "name": "python",
   "nbconvert_exporter": "python",
   "pygments_lexer": "ipython3",
   "version": "3.6.5"
  }
 },
 "nbformat": 4,
 "nbformat_minor": 2
}
